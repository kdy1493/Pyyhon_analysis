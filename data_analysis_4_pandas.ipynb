{
 "cells": [
  {
   "cell_type": "markdown",
   "id": "f944be04",
   "metadata": {},
   "source": [
    "## Pandas 개요\n",
    "- pandas는 for문을 사용하지 않고 데이터를 처리한다거나 배열 기반의 함수를 제\n",
    "공하는 등 NumPy의 배열 기반 계산 스타일을 많이 차용\n",
    "- pandas가 NumPy 스타일을 많이 차용했지만 가장 큰 차이점은 pandas는 표 형\n",
    "식의 데이터나 다양한 형태의 데이터를 다루는 데 초점을 맞춰 설계\n",
    "- 그에 비해 NumPy는 단일 산술 배열 데이터를 다루는 데 특화\n",
    "- 고수준의 자료구조를 제공하고 파이썬 생태계 내의 다른 분석 라이브러리 등과 함께 사용"
   ]
  },
  {
   "cell_type": "markdown",
   "id": "941bca72",
   "metadata": {},
   "source": [
    "## 1. Pandas 자료구조"
   ]
  },
  {
   "cell_type": "code",
   "execution_count": 1,
   "id": "37031f64",
   "metadata": {},
   "outputs": [],
   "source": [
    "import pandas as pd \n",
    "import numpy as np "
   ]
  },
  {
   "cell_type": "markdown",
   "id": "d15860cb",
   "metadata": {},
   "source": [
    "### 1.1 Series\n",
    "- 1차원 데이터"
   ]
  },
  {
   "cell_type": "code",
   "execution_count": 2,
   "id": "3348df38",
   "metadata": {},
   "outputs": [
    {
     "data": {
      "text/plain": [
       "0    4\n",
       "1    7\n",
       "2   -5\n",
       "3    3\n",
       "dtype: int64"
      ]
     },
     "execution_count": 2,
     "metadata": {},
     "output_type": "execute_result"
    }
   ],
   "source": [
    "# Series 이거 하면 index 가 같이 나온다 \n",
    "obj = pd.Series([4,7,-5, 3])\n",
    "obj "
   ]
  },
  {
   "cell_type": "code",
   "execution_count": 3,
   "id": "62477c57",
   "metadata": {},
   "outputs": [
    {
     "data": {
      "text/plain": [
       "array([ 4,  7, -5,  3], dtype=int64)"
      ]
     },
     "execution_count": 3,
     "metadata": {},
     "output_type": "execute_result"
    }
   ],
   "source": [
    "# Series 의 values \n",
    "obj.values"
   ]
  },
  {
   "cell_type": "code",
   "execution_count": 4,
   "id": "8de56d17",
   "metadata": {},
   "outputs": [
    {
     "data": {
      "text/plain": [
       "RangeIndex(start=0, stop=4, step=1)"
      ]
     },
     "execution_count": 4,
     "metadata": {},
     "output_type": "execute_result"
    }
   ],
   "source": [
    "# Series 의 index \n",
    "obj.index"
   ]
  },
  {
   "cell_type": "code",
   "execution_count": 5,
   "id": "192f00e9",
   "metadata": {},
   "outputs": [
    {
     "data": {
      "text/plain": [
       "pandas.core.series.Series"
      ]
     },
     "execution_count": 5,
     "metadata": {},
     "output_type": "execute_result"
    }
   ],
   "source": [
    "# Series 의 type \n",
    "type(obj) "
   ]
  },
  {
   "cell_type": "code",
   "execution_count": 6,
   "id": "9d338786",
   "metadata": {},
   "outputs": [
    {
     "data": {
      "text/plain": [
       "d    4\n",
       "a    7\n",
       "b   -5\n",
       "c    3\n",
       "dtype: int64"
      ]
     },
     "execution_count": 6,
     "metadata": {},
     "output_type": "execute_result"
    }
   ],
   "source": [
    "# Series의 index 값 바꾸기 \n",
    "obj2 = pd.Series([4, 7, -5, 3 ], index = ['d', 'a', 'b','c'])\n",
    "obj2"
   ]
  },
  {
   "cell_type": "code",
   "execution_count": 7,
   "id": "694b5e0c",
   "metadata": {},
   "outputs": [
    {
     "data": {
      "text/plain": [
       "4"
      ]
     },
     "execution_count": 7,
     "metadata": {},
     "output_type": "execute_result"
    }
   ],
   "source": [
    "# index '이름'으로 색인하기 \n",
    "obj2['d']"
   ]
  },
  {
   "cell_type": "code",
   "execution_count": 8,
   "id": "09c5e4eb",
   "metadata": {},
   "outputs": [
    {
     "data": {
      "text/plain": [
       "4"
      ]
     },
     "execution_count": 8,
     "metadata": {},
     "output_type": "execute_result"
    }
   ],
   "source": [
    "# index '값'으로 색인 \n",
    "obj2[0]"
   ]
  },
  {
   "cell_type": "code",
   "execution_count": 9,
   "id": "7cd48542",
   "metadata": {},
   "outputs": [
    {
     "data": {
      "text/plain": [
       "d    4\n",
       "c    3\n",
       "a    7\n",
       "dtype: int64"
      ]
     },
     "execution_count": 9,
     "metadata": {},
     "output_type": "execute_result"
    }
   ],
   "source": [
    "# 팬시 색인 '인덱스 이름'으로 \n",
    "obj2[['d' ,'c', 'a']]"
   ]
  },
  {
   "cell_type": "code",
   "execution_count": 10,
   "id": "d8d675b4",
   "metadata": {},
   "outputs": [
    {
     "data": {
      "text/plain": [
       "a    7\n",
       "d    4\n",
       "c    3\n",
       "dtype: int64"
      ]
     },
     "execution_count": 10,
     "metadata": {},
     "output_type": "execute_result"
    }
   ],
   "source": [
    "# 팬시 색인 '인덱스 값'으로 \n",
    "obj2[[1,0,3]] "
   ]
  },
  {
   "cell_type": "code",
   "execution_count": 11,
   "id": "73790fbf",
   "metadata": {},
   "outputs": [
    {
     "data": {
      "text/plain": [
       "d    4\n",
       "a    7\n",
       "c    3\n",
       "dtype: int64"
      ]
     },
     "execution_count": 11,
     "metadata": {},
     "output_type": "execute_result"
    }
   ],
   "source": [
    "# 불리안 색인 \n",
    "obj2[obj2 > 0]"
   ]
  },
  {
   "cell_type": "code",
   "execution_count": 12,
   "id": "d57f6ed5",
   "metadata": {},
   "outputs": [
    {
     "data": {
      "text/plain": [
       "d     8\n",
       "a    14\n",
       "b   -10\n",
       "c     6\n",
       "dtype: int64"
      ]
     },
     "execution_count": 12,
     "metadata": {},
     "output_type": "execute_result"
    }
   ],
   "source": [
    "# 브로드 캐스팅 \n",
    "obj2 * 2"
   ]
  },
  {
   "cell_type": "code",
   "execution_count": 13,
   "id": "9146596f",
   "metadata": {},
   "outputs": [
    {
     "data": {
      "text/plain": [
       "d      54.598150\n",
       "a    1096.633158\n",
       "b       0.006738\n",
       "c      20.085537\n",
       "dtype: float64"
      ]
     },
     "execution_count": 13,
     "metadata": {},
     "output_type": "execute_result"
    }
   ],
   "source": [
    "# 유니버셜 함수 \n",
    "np.exp(obj2) "
   ]
  },
  {
   "cell_type": "code",
   "execution_count": 14,
   "id": "11e1c7b8",
   "metadata": {},
   "outputs": [
    {
     "data": {
      "text/plain": [
       "Ohio       3500\n",
       "Texas     71000\n",
       "Oregon    16000\n",
       "Utah       5000\n",
       "dtype: int64"
      ]
     },
     "execution_count": 14,
     "metadata": {},
     "output_type": "execute_result"
    }
   ],
   "source": [
    "# 딕셔너리 와 시리즈 \n",
    "sdata = {'Ohio':3500, 'Texas':71000, 'Oregon':16000, 'Utah': 5000}\n",
    "obj3 = pd.Series(sdata)\n",
    "obj3"
   ]
  },
  {
   "cell_type": "code",
   "execution_count": 15,
   "id": "4a3c6cc3",
   "metadata": {},
   "outputs": [
    {
     "data": {
      "text/plain": [
       "California        NaN\n",
       "Ohio           3500.0\n",
       "Oregon        16000.0\n",
       "Texas         71000.0\n",
       "dtype: float64"
      ]
     },
     "execution_count": 15,
     "metadata": {},
     "output_type": "execute_result"
    }
   ],
   "source": [
    "# California 얘는 새로운 삽입 , Utah 는 삭제 \n",
    "states = ['California', 'Ohio', 'Oregon', 'Texas']\n",
    "obj4 = pd.Series(sdata, index=states)\n",
    "obj4"
   ]
  },
  {
   "cell_type": "code",
   "execution_count": 16,
   "id": "4595bfce",
   "metadata": {},
   "outputs": [
    {
     "data": {
      "text/plain": [
       "California     True\n",
       "Ohio          False\n",
       "Oregon        False\n",
       "Texas         False\n",
       "dtype: bool"
      ]
     },
     "execution_count": 16,
     "metadata": {},
     "output_type": "execute_result"
    }
   ],
   "source": [
    "# null 값 찾기 \n",
    "pd.isnull(obj4) "
   ]
  },
  {
   "cell_type": "code",
   "execution_count": 17,
   "id": "428fd942",
   "metadata": {},
   "outputs": [
    {
     "data": {
      "text/plain": [
       "California        NaN\n",
       "Ohio           3500.0\n",
       "Oregon        16000.0\n",
       "Texas         71000.0\n",
       "Name: population, dtype: float64"
      ]
     },
     "execution_count": 17,
     "metadata": {},
     "output_type": "execute_result"
    }
   ],
   "source": [
    "# 시리즈 이름 짓기 \n",
    "obj4.name = 'population'\n",
    "obj4"
   ]
  },
  {
   "cell_type": "code",
   "execution_count": 18,
   "id": "2b567f77",
   "metadata": {},
   "outputs": [
    {
     "data": {
      "text/plain": [
       "state\n",
       "California        NaN\n",
       "Ohio           3500.0\n",
       "Oregon        16000.0\n",
       "Texas         71000.0\n",
       "Name: population, dtype: float64"
      ]
     },
     "execution_count": 18,
     "metadata": {},
     "output_type": "execute_result"
    }
   ],
   "source": [
    "# 시리즈의 인덱스 이름 짓기 \n",
    "obj4.index.name = 'state' \n",
    "obj4"
   ]
  },
  {
   "cell_type": "code",
   "execution_count": 19,
   "id": "d48db32d",
   "metadata": {},
   "outputs": [],
   "source": [
    "# 시리즈의 columns 전체 이름 짓기  \n",
    "\n",
    "# 이건 안돼~\n"
   ]
  },
  {
   "cell_type": "markdown",
   "id": "009d7fb5",
   "metadata": {},
   "source": [
    "### Workshop"
   ]
  },
  {
   "cell_type": "markdown",
   "id": "56ee57d6",
   "metadata": {},
   "source": [
    "- 딕셔너리 -> 시리즈 변환 (index, values 출력)"
   ]
  },
  {
   "cell_type": "code",
   "execution_count": 20,
   "id": "ff4453b7",
   "metadata": {},
   "outputs": [
    {
     "data": {
      "text/plain": [
       "(Index(['a', 'b', 'c'], dtype='object'), array([1, 2, 3], dtype=int64))"
      ]
     },
     "execution_count": 20,
     "metadata": {},
     "output_type": "execute_result"
    }
   ],
   "source": [
    "dict_data = {'a':1, 'b':2, 'c':3}\n",
    "sr = pd.Series(dict_data)\n",
    "\n",
    "sr.index, sr.values "
   ]
  },
  {
   "cell_type": "markdown",
   "id": "8799d5e5",
   "metadata": {},
   "source": [
    "- 리스트 -> 시리즈 변환 (index, values 출력)"
   ]
  },
  {
   "cell_type": "code",
   "execution_count": 21,
   "id": "f6525584",
   "metadata": {},
   "outputs": [
    {
     "data": {
      "text/plain": [
       "(RangeIndex(start=0, stop=5, step=1),\n",
       " array(['2019-01-02', 3.14, 'ABC', 100, True], dtype=object))"
      ]
     },
     "execution_count": 21,
     "metadata": {},
     "output_type": "execute_result"
    }
   ],
   "source": [
    "list_data = ['2019-01-02', 3.14, 'ABC', 100, True]\n",
    "sr = pd.Series(list_data)\n",
    "\n",
    "sr.index , sr.values "
   ]
  },
  {
   "cell_type": "markdown",
   "id": "c25a0ebc",
   "metadata": {},
   "source": [
    "- 튜플 -> 시리즈 변환 (index, values 출력)"
   ]
  },
  {
   "cell_type": "code",
   "execution_count": 22,
   "id": "c27ed602",
   "metadata": {},
   "outputs": [
    {
     "data": {
      "text/plain": [
       "(RangeIndex(start=0, stop=4, step=1),\n",
       " array(['영인', '2010-05-01', '여', True], dtype=object))"
      ]
     },
     "execution_count": 22,
     "metadata": {},
     "output_type": "execute_result"
    }
   ],
   "source": [
    "tuple_data = ('영인', '2010-05-01', '여', True)\n",
    "sr = pd.Series(tuple_data)\n",
    "\n",
    "sr.index , sr.values "
   ]
  },
  {
   "cell_type": "markdown",
   "id": "1d8d6b28",
   "metadata": {},
   "source": [
    "- 튜플 -> 시리즈 변환 (index 설정)"
   ]
  },
  {
   "cell_type": "code",
   "execution_count": 23,
   "id": "76a44abc",
   "metadata": {},
   "outputs": [
    {
     "data": {
      "text/plain": [
       "(Index(['이름', '생년월일', '성별', '학생여부'], dtype='object'),\n",
       " array(['영인', '2010-05-01', '여', True], dtype=object))"
      ]
     },
     "execution_count": 23,
     "metadata": {},
     "output_type": "execute_result"
    }
   ],
   "source": [
    "tuple_data = ('영인', '2010-05-01', '여', True)\n",
    "index_name = ['이름', '생년월일', '성별', '학생여부']\n",
    "\n",
    "sr = pd.Series(tuple_data, index=index_name)\n",
    "\n",
    "sr.index, sr.values "
   ]
  },
  {
   "cell_type": "markdown",
   "id": "a3b953e5",
   "metadata": {},
   "source": [
    "### 1.2 DataFrame\n",
    "- 2차원 데이터"
   ]
  },
  {
   "cell_type": "code",
   "execution_count": 24,
   "id": "bb229ff8",
   "metadata": {},
   "outputs": [
    {
     "data": {
      "text/plain": [
       "{'state': ['Ohio', 'Ohio', 'Ohio', 'Nevada', 'Nevada', 'Nevada'],\n",
       " 'year': [2000, 2001, 2002, 2001, 2002, 2003],\n",
       " 'pop': [1.5, 1.7, 3.6, 2.4, 2.9, 3.2]}"
      ]
     },
     "execution_count": 24,
     "metadata": {},
     "output_type": "execute_result"
    }
   ],
   "source": [
    "data = {'state':['Ohio', 'Ohio', 'Ohio', 'Nevada', 'Nevada', 'Nevada'], \n",
    "        'year':[2000, 2001, 2002, 2001, 2002, 2003], \n",
    "        'pop':[1.5, 1.7, 3.6, 2.4, 2.9, 3.2]} \n",
    "data"
   ]
  },
  {
   "cell_type": "code",
   "execution_count": 25,
   "id": "9314362d",
   "metadata": {},
   "outputs": [
    {
     "data": {
      "text/html": [
       "<div>\n",
       "<style scoped>\n",
       "    .dataframe tbody tr th:only-of-type {\n",
       "        vertical-align: middle;\n",
       "    }\n",
       "\n",
       "    .dataframe tbody tr th {\n",
       "        vertical-align: top;\n",
       "    }\n",
       "\n",
       "    .dataframe thead th {\n",
       "        text-align: right;\n",
       "    }\n",
       "</style>\n",
       "<table border=\"1\" class=\"dataframe\">\n",
       "  <thead>\n",
       "    <tr style=\"text-align: right;\">\n",
       "      <th></th>\n",
       "      <th>state</th>\n",
       "      <th>year</th>\n",
       "      <th>pop</th>\n",
       "    </tr>\n",
       "  </thead>\n",
       "  <tbody>\n",
       "    <tr>\n",
       "      <th>0</th>\n",
       "      <td>Ohio</td>\n",
       "      <td>2000</td>\n",
       "      <td>1.5</td>\n",
       "    </tr>\n",
       "    <tr>\n",
       "      <th>1</th>\n",
       "      <td>Ohio</td>\n",
       "      <td>2001</td>\n",
       "      <td>1.7</td>\n",
       "    </tr>\n",
       "    <tr>\n",
       "      <th>2</th>\n",
       "      <td>Ohio</td>\n",
       "      <td>2002</td>\n",
       "      <td>3.6</td>\n",
       "    </tr>\n",
       "    <tr>\n",
       "      <th>3</th>\n",
       "      <td>Nevada</td>\n",
       "      <td>2001</td>\n",
       "      <td>2.4</td>\n",
       "    </tr>\n",
       "    <tr>\n",
       "      <th>4</th>\n",
       "      <td>Nevada</td>\n",
       "      <td>2002</td>\n",
       "      <td>2.9</td>\n",
       "    </tr>\n",
       "    <tr>\n",
       "      <th>5</th>\n",
       "      <td>Nevada</td>\n",
       "      <td>2003</td>\n",
       "      <td>3.2</td>\n",
       "    </tr>\n",
       "  </tbody>\n",
       "</table>\n",
       "</div>"
      ],
      "text/plain": [
       "    state  year  pop\n",
       "0    Ohio  2000  1.5\n",
       "1    Ohio  2001  1.7\n",
       "2    Ohio  2002  3.6\n",
       "3  Nevada  2001  2.4\n",
       "4  Nevada  2002  2.9\n",
       "5  Nevada  2003  3.2"
      ]
     },
     "execution_count": 25,
     "metadata": {},
     "output_type": "execute_result"
    }
   ],
   "source": [
    "# 데이터 프레임 만들기  // 딕셔너리의 키값들이 컬럼명으로 들어감 \n",
    "frame = pd.DataFrame(data) \n",
    "frame "
   ]
  },
  {
   "cell_type": "code",
   "execution_count": 26,
   "id": "1844ccfd",
   "metadata": {},
   "outputs": [
    {
     "data": {
      "text/plain": [
       "RangeIndex(start=0, stop=6, step=1)"
      ]
     },
     "execution_count": 26,
     "metadata": {},
     "output_type": "execute_result"
    }
   ],
   "source": [
    "# index check \n",
    "frame.index"
   ]
  },
  {
   "cell_type": "code",
   "execution_count": 27,
   "id": "5a2656ac",
   "metadata": {},
   "outputs": [
    {
     "data": {
      "text/plain": [
       "Index(['state', 'year', 'pop'], dtype='object')"
      ]
     },
     "execution_count": 27,
     "metadata": {},
     "output_type": "execute_result"
    }
   ],
   "source": [
    "# colums check \n",
    "frame.columns"
   ]
  },
  {
   "cell_type": "code",
   "execution_count": 28,
   "id": "f66160e6",
   "metadata": {},
   "outputs": [
    {
     "data": {
      "text/plain": [
       "array([['Ohio', 2000, 1.5],\n",
       "       ['Ohio', 2001, 1.7],\n",
       "       ['Ohio', 2002, 3.6],\n",
       "       ['Nevada', 2001, 2.4],\n",
       "       ['Nevada', 2002, 2.9],\n",
       "       ['Nevada', 2003, 3.2]], dtype=object)"
      ]
     },
     "execution_count": 28,
     "metadata": {},
     "output_type": "execute_result"
    }
   ],
   "source": [
    "# values check \n",
    "frame.values "
   ]
  },
  {
   "cell_type": "code",
   "execution_count": 29,
   "id": "5e0b0e1b",
   "metadata": {},
   "outputs": [
    {
     "data": {
      "text/html": [
       "<div>\n",
       "<style scoped>\n",
       "    .dataframe tbody tr th:only-of-type {\n",
       "        vertical-align: middle;\n",
       "    }\n",
       "\n",
       "    .dataframe tbody tr th {\n",
       "        vertical-align: top;\n",
       "    }\n",
       "\n",
       "    .dataframe thead th {\n",
       "        text-align: right;\n",
       "    }\n",
       "</style>\n",
       "<table border=\"1\" class=\"dataframe\">\n",
       "  <thead>\n",
       "    <tr style=\"text-align: right;\">\n",
       "      <th></th>\n",
       "      <th>state</th>\n",
       "      <th>year</th>\n",
       "      <th>pop</th>\n",
       "    </tr>\n",
       "  </thead>\n",
       "  <tbody>\n",
       "    <tr>\n",
       "      <th>0</th>\n",
       "      <td>Ohio</td>\n",
       "      <td>2000</td>\n",
       "      <td>1.5</td>\n",
       "    </tr>\n",
       "    <tr>\n",
       "      <th>1</th>\n",
       "      <td>Ohio</td>\n",
       "      <td>2001</td>\n",
       "      <td>1.7</td>\n",
       "    </tr>\n",
       "    <tr>\n",
       "      <th>2</th>\n",
       "      <td>Ohio</td>\n",
       "      <td>2002</td>\n",
       "      <td>3.6</td>\n",
       "    </tr>\n",
       "    <tr>\n",
       "      <th>3</th>\n",
       "      <td>Nevada</td>\n",
       "      <td>2001</td>\n",
       "      <td>2.4</td>\n",
       "    </tr>\n",
       "    <tr>\n",
       "      <th>4</th>\n",
       "      <td>Nevada</td>\n",
       "      <td>2002</td>\n",
       "      <td>2.9</td>\n",
       "    </tr>\n",
       "  </tbody>\n",
       "</table>\n",
       "</div>"
      ],
      "text/plain": [
       "    state  year  pop\n",
       "0    Ohio  2000  1.5\n",
       "1    Ohio  2001  1.7\n",
       "2    Ohio  2002  3.6\n",
       "3  Nevada  2001  2.4\n",
       "4  Nevada  2002  2.9"
      ]
     },
     "execution_count": 29,
     "metadata": {},
     "output_type": "execute_result"
    }
   ],
   "source": [
    "# 데이터 딱 앞에 5행만 훑어 보기 \n",
    "frame.head() "
   ]
  },
  {
   "cell_type": "code",
   "execution_count": 30,
   "id": "6dbcb10e",
   "metadata": {},
   "outputs": [
    {
     "data": {
      "text/html": [
       "<div>\n",
       "<style scoped>\n",
       "    .dataframe tbody tr th:only-of-type {\n",
       "        vertical-align: middle;\n",
       "    }\n",
       "\n",
       "    .dataframe tbody tr th {\n",
       "        vertical-align: top;\n",
       "    }\n",
       "\n",
       "    .dataframe thead th {\n",
       "        text-align: right;\n",
       "    }\n",
       "</style>\n",
       "<table border=\"1\" class=\"dataframe\">\n",
       "  <thead>\n",
       "    <tr style=\"text-align: right;\">\n",
       "      <th></th>\n",
       "      <th>state</th>\n",
       "      <th>year</th>\n",
       "      <th>pop</th>\n",
       "    </tr>\n",
       "  </thead>\n",
       "  <tbody>\n",
       "    <tr>\n",
       "      <th>1</th>\n",
       "      <td>Ohio</td>\n",
       "      <td>2001</td>\n",
       "      <td>1.7</td>\n",
       "    </tr>\n",
       "    <tr>\n",
       "      <th>2</th>\n",
       "      <td>Ohio</td>\n",
       "      <td>2002</td>\n",
       "      <td>3.6</td>\n",
       "    </tr>\n",
       "    <tr>\n",
       "      <th>3</th>\n",
       "      <td>Nevada</td>\n",
       "      <td>2001</td>\n",
       "      <td>2.4</td>\n",
       "    </tr>\n",
       "    <tr>\n",
       "      <th>4</th>\n",
       "      <td>Nevada</td>\n",
       "      <td>2002</td>\n",
       "      <td>2.9</td>\n",
       "    </tr>\n",
       "    <tr>\n",
       "      <th>5</th>\n",
       "      <td>Nevada</td>\n",
       "      <td>2003</td>\n",
       "      <td>3.2</td>\n",
       "    </tr>\n",
       "  </tbody>\n",
       "</table>\n",
       "</div>"
      ],
      "text/plain": [
       "    state  year  pop\n",
       "1    Ohio  2001  1.7\n",
       "2    Ohio  2002  3.6\n",
       "3  Nevada  2001  2.4\n",
       "4  Nevada  2002  2.9\n",
       "5  Nevada  2003  3.2"
      ]
     },
     "execution_count": 30,
     "metadata": {},
     "output_type": "execute_result"
    }
   ],
   "source": [
    "# 뒤에 5개 훑어 보기 \n",
    "frame.tail()"
   ]
  },
  {
   "cell_type": "code",
   "execution_count": 31,
   "id": "cd94354c",
   "metadata": {},
   "outputs": [
    {
     "data": {
      "text/html": [
       "<div>\n",
       "<style scoped>\n",
       "    .dataframe tbody tr th:only-of-type {\n",
       "        vertical-align: middle;\n",
       "    }\n",
       "\n",
       "    .dataframe tbody tr th {\n",
       "        vertical-align: top;\n",
       "    }\n",
       "\n",
       "    .dataframe thead th {\n",
       "        text-align: right;\n",
       "    }\n",
       "</style>\n",
       "<table border=\"1\" class=\"dataframe\">\n",
       "  <thead>\n",
       "    <tr style=\"text-align: right;\">\n",
       "      <th></th>\n",
       "      <th>year</th>\n",
       "      <th>pop</th>\n",
       "      <th>state</th>\n",
       "      <th>dept</th>\n",
       "    </tr>\n",
       "  </thead>\n",
       "  <tbody>\n",
       "    <tr>\n",
       "      <th>0</th>\n",
       "      <td>2000</td>\n",
       "      <td>1.5</td>\n",
       "      <td>Ohio</td>\n",
       "      <td>NaN</td>\n",
       "    </tr>\n",
       "    <tr>\n",
       "      <th>1</th>\n",
       "      <td>2001</td>\n",
       "      <td>1.7</td>\n",
       "      <td>Ohio</td>\n",
       "      <td>NaN</td>\n",
       "    </tr>\n",
       "    <tr>\n",
       "      <th>2</th>\n",
       "      <td>2002</td>\n",
       "      <td>3.6</td>\n",
       "      <td>Ohio</td>\n",
       "      <td>NaN</td>\n",
       "    </tr>\n",
       "    <tr>\n",
       "      <th>3</th>\n",
       "      <td>2001</td>\n",
       "      <td>2.4</td>\n",
       "      <td>Nevada</td>\n",
       "      <td>NaN</td>\n",
       "    </tr>\n",
       "    <tr>\n",
       "      <th>4</th>\n",
       "      <td>2002</td>\n",
       "      <td>2.9</td>\n",
       "      <td>Nevada</td>\n",
       "      <td>NaN</td>\n",
       "    </tr>\n",
       "    <tr>\n",
       "      <th>5</th>\n",
       "      <td>2003</td>\n",
       "      <td>3.2</td>\n",
       "      <td>Nevada</td>\n",
       "      <td>NaN</td>\n",
       "    </tr>\n",
       "  </tbody>\n",
       "</table>\n",
       "</div>"
      ],
      "text/plain": [
       "   year  pop   state dept\n",
       "0  2000  1.5    Ohio  NaN\n",
       "1  2001  1.7    Ohio  NaN\n",
       "2  2002  3.6    Ohio  NaN\n",
       "3  2001  2.4  Nevada  NaN\n",
       "4  2002  2.9  Nevada  NaN\n",
       "5  2003  3.2  Nevada  NaN"
      ]
     },
     "execution_count": 31,
     "metadata": {},
     "output_type": "execute_result"
    }
   ],
   "source": [
    "# 컬럼들의 순서 지정하기 + 추가 하기  \n",
    "pd.DataFrame(data, columns = ['year', 'pop', 'state', 'dept'])"
   ]
  },
  {
   "cell_type": "code",
   "execution_count": 32,
   "id": "1e912dec",
   "metadata": {},
   "outputs": [
    {
     "data": {
      "text/html": [
       "<div>\n",
       "<style scoped>\n",
       "    .dataframe tbody tr th:only-of-type {\n",
       "        vertical-align: middle;\n",
       "    }\n",
       "\n",
       "    .dataframe tbody tr th {\n",
       "        vertical-align: top;\n",
       "    }\n",
       "\n",
       "    .dataframe thead th {\n",
       "        text-align: right;\n",
       "    }\n",
       "</style>\n",
       "<table border=\"1\" class=\"dataframe\">\n",
       "  <thead>\n",
       "    <tr style=\"text-align: right;\">\n",
       "      <th></th>\n",
       "      <th>year</th>\n",
       "      <th>state</th>\n",
       "      <th>pop</th>\n",
       "      <th>debt</th>\n",
       "    </tr>\n",
       "  </thead>\n",
       "  <tbody>\n",
       "    <tr>\n",
       "      <th>one</th>\n",
       "      <td>2000</td>\n",
       "      <td>Ohio</td>\n",
       "      <td>1.5</td>\n",
       "      <td>NaN</td>\n",
       "    </tr>\n",
       "    <tr>\n",
       "      <th>two</th>\n",
       "      <td>2001</td>\n",
       "      <td>Ohio</td>\n",
       "      <td>1.7</td>\n",
       "      <td>NaN</td>\n",
       "    </tr>\n",
       "    <tr>\n",
       "      <th>three</th>\n",
       "      <td>2002</td>\n",
       "      <td>Ohio</td>\n",
       "      <td>3.6</td>\n",
       "      <td>NaN</td>\n",
       "    </tr>\n",
       "    <tr>\n",
       "      <th>four</th>\n",
       "      <td>2001</td>\n",
       "      <td>Nevada</td>\n",
       "      <td>2.4</td>\n",
       "      <td>NaN</td>\n",
       "    </tr>\n",
       "    <tr>\n",
       "      <th>five</th>\n",
       "      <td>2002</td>\n",
       "      <td>Nevada</td>\n",
       "      <td>2.9</td>\n",
       "      <td>NaN</td>\n",
       "    </tr>\n",
       "    <tr>\n",
       "      <th>six</th>\n",
       "      <td>2003</td>\n",
       "      <td>Nevada</td>\n",
       "      <td>3.2</td>\n",
       "      <td>NaN</td>\n",
       "    </tr>\n",
       "  </tbody>\n",
       "</table>\n",
       "</div>"
      ],
      "text/plain": [
       "       year   state  pop debt\n",
       "one    2000    Ohio  1.5  NaN\n",
       "two    2001    Ohio  1.7  NaN\n",
       "three  2002    Ohio  3.6  NaN\n",
       "four   2001  Nevada  2.4  NaN\n",
       "five   2002  Nevada  2.9  NaN\n",
       "six    2003  Nevada  3.2  NaN"
      ]
     },
     "execution_count": 32,
     "metadata": {},
     "output_type": "execute_result"
    }
   ],
   "source": [
    "# 인덱스 이름 지정해주기~\n",
    "frame2 = pd.DataFrame(data, columns = ['year', 'state', 'pop', 'debt'],\n",
    "                      index = ['one', 'two', 'three', 'four', 'five', 'six'])\n",
    "frame2"
   ]
  },
  {
   "cell_type": "code",
   "execution_count": 33,
   "id": "ce6e3f0b",
   "metadata": {},
   "outputs": [
    {
     "data": {
      "text/plain": [
       "one        Ohio\n",
       "two        Ohio\n",
       "three      Ohio\n",
       "four     Nevada\n",
       "five     Nevada\n",
       "six      Nevada\n",
       "Name: state, dtype: object"
      ]
     },
     "execution_count": 33,
     "metadata": {},
     "output_type": "execute_result"
    }
   ],
   "source": [
    "# dataframe 의 열색인 \n",
    "frame2['state']"
   ]
  },
  {
   "cell_type": "code",
   "execution_count": 34,
   "id": "cbbb8c5e",
   "metadata": {},
   "outputs": [
    {
     "data": {
      "text/html": [
       "<div>\n",
       "<style scoped>\n",
       "    .dataframe tbody tr th:only-of-type {\n",
       "        vertical-align: middle;\n",
       "    }\n",
       "\n",
       "    .dataframe tbody tr th {\n",
       "        vertical-align: top;\n",
       "    }\n",
       "\n",
       "    .dataframe thead th {\n",
       "        text-align: right;\n",
       "    }\n",
       "</style>\n",
       "<table border=\"1\" class=\"dataframe\">\n",
       "  <thead>\n",
       "    <tr style=\"text-align: right;\">\n",
       "      <th></th>\n",
       "      <th>year</th>\n",
       "      <th>state</th>\n",
       "      <th>pop</th>\n",
       "    </tr>\n",
       "  </thead>\n",
       "  <tbody>\n",
       "    <tr>\n",
       "      <th>one</th>\n",
       "      <td>2000</td>\n",
       "      <td>Ohio</td>\n",
       "      <td>1.5</td>\n",
       "    </tr>\n",
       "    <tr>\n",
       "      <th>two</th>\n",
       "      <td>2001</td>\n",
       "      <td>Ohio</td>\n",
       "      <td>1.7</td>\n",
       "    </tr>\n",
       "    <tr>\n",
       "      <th>three</th>\n",
       "      <td>2002</td>\n",
       "      <td>Ohio</td>\n",
       "      <td>3.6</td>\n",
       "    </tr>\n",
       "    <tr>\n",
       "      <th>four</th>\n",
       "      <td>2001</td>\n",
       "      <td>Nevada</td>\n",
       "      <td>2.4</td>\n",
       "    </tr>\n",
       "    <tr>\n",
       "      <th>five</th>\n",
       "      <td>2002</td>\n",
       "      <td>Nevada</td>\n",
       "      <td>2.9</td>\n",
       "    </tr>\n",
       "    <tr>\n",
       "      <th>six</th>\n",
       "      <td>2003</td>\n",
       "      <td>Nevada</td>\n",
       "      <td>3.2</td>\n",
       "    </tr>\n",
       "  </tbody>\n",
       "</table>\n",
       "</div>"
      ],
      "text/plain": [
       "       year   state  pop\n",
       "one    2000    Ohio  1.5\n",
       "two    2001    Ohio  1.7\n",
       "three  2002    Ohio  3.6\n",
       "four   2001  Nevada  2.4\n",
       "five   2002  Nevada  2.9\n",
       "six    2003  Nevada  3.2"
      ]
     },
     "execution_count": 34,
     "metadata": {},
     "output_type": "execute_result"
    }
   ],
   "source": [
    "# 열 색인 슬라이싱 // .loc (location) 이라는 거로 데이터프레임의 인덱싱 + 슬라이싱 가능함  \n",
    "frame2.loc[:, 'year': 'pop']"
   ]
  },
  {
   "cell_type": "code",
   "execution_count": 35,
   "id": "31f4bc9c",
   "metadata": {},
   "outputs": [
    {
     "data": {
      "text/plain": [
       "year     2000\n",
       "state    Ohio\n",
       "pop       1.5\n",
       "debt      NaN\n",
       "Name: one, dtype: object"
      ]
     },
     "execution_count": 35,
     "metadata": {},
     "output_type": "execute_result"
    }
   ],
   "source": [
    "# dataframe 의 행 색인 // .loc 이라는 걸 써야함 \n",
    "frame2.loc['one']"
   ]
  },
  {
   "cell_type": "code",
   "execution_count": 36,
   "id": "985d6ffa",
   "metadata": {},
   "outputs": [
    {
     "data": {
      "text/html": [
       "<div>\n",
       "<style scoped>\n",
       "    .dataframe tbody tr th:only-of-type {\n",
       "        vertical-align: middle;\n",
       "    }\n",
       "\n",
       "    .dataframe tbody tr th {\n",
       "        vertical-align: top;\n",
       "    }\n",
       "\n",
       "    .dataframe thead th {\n",
       "        text-align: right;\n",
       "    }\n",
       "</style>\n",
       "<table border=\"1\" class=\"dataframe\">\n",
       "  <thead>\n",
       "    <tr style=\"text-align: right;\">\n",
       "      <th></th>\n",
       "      <th>year</th>\n",
       "      <th>state</th>\n",
       "      <th>pop</th>\n",
       "      <th>debt</th>\n",
       "    </tr>\n",
       "  </thead>\n",
       "  <tbody>\n",
       "    <tr>\n",
       "      <th>one</th>\n",
       "      <td>2000</td>\n",
       "      <td>Ohio</td>\n",
       "      <td>1.5</td>\n",
       "      <td>NaN</td>\n",
       "    </tr>\n",
       "    <tr>\n",
       "      <th>two</th>\n",
       "      <td>2001</td>\n",
       "      <td>Ohio</td>\n",
       "      <td>1.7</td>\n",
       "      <td>NaN</td>\n",
       "    </tr>\n",
       "    <tr>\n",
       "      <th>three</th>\n",
       "      <td>2002</td>\n",
       "      <td>Ohio</td>\n",
       "      <td>3.6</td>\n",
       "      <td>NaN</td>\n",
       "    </tr>\n",
       "  </tbody>\n",
       "</table>\n",
       "</div>"
      ],
      "text/plain": [
       "       year state  pop debt\n",
       "one    2000  Ohio  1.5  NaN\n",
       "two    2001  Ohio  1.7  NaN\n",
       "three  2002  Ohio  3.6  NaN"
      ]
     },
     "execution_count": 36,
     "metadata": {},
     "output_type": "execute_result"
    }
   ],
   "source": [
    "# 행 슬라이싱 \n",
    "frame2.loc['one' : 'three']"
   ]
  },
  {
   "cell_type": "code",
   "execution_count": 37,
   "id": "f7f7b1cf",
   "metadata": {},
   "outputs": [
    {
     "data": {
      "text/html": [
       "<div>\n",
       "<style scoped>\n",
       "    .dataframe tbody tr th:only-of-type {\n",
       "        vertical-align: middle;\n",
       "    }\n",
       "\n",
       "    .dataframe tbody tr th {\n",
       "        vertical-align: top;\n",
       "    }\n",
       "\n",
       "    .dataframe thead th {\n",
       "        text-align: right;\n",
       "    }\n",
       "</style>\n",
       "<table border=\"1\" class=\"dataframe\">\n",
       "  <thead>\n",
       "    <tr style=\"text-align: right;\">\n",
       "      <th></th>\n",
       "      <th>year</th>\n",
       "      <th>state</th>\n",
       "      <th>pop</th>\n",
       "      <th>debt</th>\n",
       "      <th>dept</th>\n",
       "    </tr>\n",
       "  </thead>\n",
       "  <tbody>\n",
       "    <tr>\n",
       "      <th>one</th>\n",
       "      <td>2000</td>\n",
       "      <td>Ohio</td>\n",
       "      <td>1.5</td>\n",
       "      <td>NaN</td>\n",
       "      <td>16.5</td>\n",
       "    </tr>\n",
       "    <tr>\n",
       "      <th>two</th>\n",
       "      <td>2001</td>\n",
       "      <td>Ohio</td>\n",
       "      <td>1.7</td>\n",
       "      <td>NaN</td>\n",
       "      <td>16.5</td>\n",
       "    </tr>\n",
       "    <tr>\n",
       "      <th>three</th>\n",
       "      <td>2002</td>\n",
       "      <td>Ohio</td>\n",
       "      <td>3.6</td>\n",
       "      <td>NaN</td>\n",
       "      <td>16.5</td>\n",
       "    </tr>\n",
       "    <tr>\n",
       "      <th>four</th>\n",
       "      <td>2001</td>\n",
       "      <td>Nevada</td>\n",
       "      <td>2.4</td>\n",
       "      <td>NaN</td>\n",
       "      <td>16.5</td>\n",
       "    </tr>\n",
       "    <tr>\n",
       "      <th>five</th>\n",
       "      <td>2002</td>\n",
       "      <td>Nevada</td>\n",
       "      <td>2.9</td>\n",
       "      <td>NaN</td>\n",
       "      <td>16.5</td>\n",
       "    </tr>\n",
       "    <tr>\n",
       "      <th>six</th>\n",
       "      <td>2003</td>\n",
       "      <td>Nevada</td>\n",
       "      <td>3.2</td>\n",
       "      <td>NaN</td>\n",
       "      <td>16.5</td>\n",
       "    </tr>\n",
       "  </tbody>\n",
       "</table>\n",
       "</div>"
      ],
      "text/plain": [
       "       year   state  pop debt  dept\n",
       "one    2000    Ohio  1.5  NaN  16.5\n",
       "two    2001    Ohio  1.7  NaN  16.5\n",
       "three  2002    Ohio  3.6  NaN  16.5\n",
       "four   2001  Nevada  2.4  NaN  16.5\n",
       "five   2002  Nevada  2.9  NaN  16.5\n",
       "six    2003  Nevada  3.2  NaN  16.5"
      ]
     },
     "execution_count": 37,
     "metadata": {},
     "output_type": "execute_result"
    }
   ],
   "source": [
    "# dataframe 의 브로드캐스팅 \n",
    "frame2['dept'] = 16.5\n",
    "frame2"
   ]
  },
  {
   "cell_type": "code",
   "execution_count": 38,
   "id": "8a9e74a1",
   "metadata": {},
   "outputs": [
    {
     "data": {
      "text/html": [
       "<div>\n",
       "<style scoped>\n",
       "    .dataframe tbody tr th:only-of-type {\n",
       "        vertical-align: middle;\n",
       "    }\n",
       "\n",
       "    .dataframe tbody tr th {\n",
       "        vertical-align: top;\n",
       "    }\n",
       "\n",
       "    .dataframe thead th {\n",
       "        text-align: right;\n",
       "    }\n",
       "</style>\n",
       "<table border=\"1\" class=\"dataframe\">\n",
       "  <thead>\n",
       "    <tr style=\"text-align: right;\">\n",
       "      <th></th>\n",
       "      <th>year</th>\n",
       "      <th>state</th>\n",
       "      <th>pop</th>\n",
       "      <th>debt</th>\n",
       "      <th>dept</th>\n",
       "    </tr>\n",
       "  </thead>\n",
       "  <tbody>\n",
       "    <tr>\n",
       "      <th>one</th>\n",
       "      <td>2000</td>\n",
       "      <td>Ohio</td>\n",
       "      <td>1.5</td>\n",
       "      <td>NaN</td>\n",
       "      <td>0</td>\n",
       "    </tr>\n",
       "    <tr>\n",
       "      <th>two</th>\n",
       "      <td>2001</td>\n",
       "      <td>Ohio</td>\n",
       "      <td>1.7</td>\n",
       "      <td>NaN</td>\n",
       "      <td>1</td>\n",
       "    </tr>\n",
       "    <tr>\n",
       "      <th>three</th>\n",
       "      <td>2002</td>\n",
       "      <td>Ohio</td>\n",
       "      <td>3.6</td>\n",
       "      <td>NaN</td>\n",
       "      <td>2</td>\n",
       "    </tr>\n",
       "    <tr>\n",
       "      <th>four</th>\n",
       "      <td>2001</td>\n",
       "      <td>Nevada</td>\n",
       "      <td>2.4</td>\n",
       "      <td>NaN</td>\n",
       "      <td>3</td>\n",
       "    </tr>\n",
       "    <tr>\n",
       "      <th>five</th>\n",
       "      <td>2002</td>\n",
       "      <td>Nevada</td>\n",
       "      <td>2.9</td>\n",
       "      <td>NaN</td>\n",
       "      <td>4</td>\n",
       "    </tr>\n",
       "    <tr>\n",
       "      <th>six</th>\n",
       "      <td>2003</td>\n",
       "      <td>Nevada</td>\n",
       "      <td>3.2</td>\n",
       "      <td>NaN</td>\n",
       "      <td>5</td>\n",
       "    </tr>\n",
       "  </tbody>\n",
       "</table>\n",
       "</div>"
      ],
      "text/plain": [
       "       year   state  pop debt  dept\n",
       "one    2000    Ohio  1.5  NaN     0\n",
       "two    2001    Ohio  1.7  NaN     1\n",
       "three  2002    Ohio  3.6  NaN     2\n",
       "four   2001  Nevada  2.4  NaN     3\n",
       "five   2002  Nevada  2.9  NaN     4\n",
       "six    2003  Nevada  3.2  NaN     5"
      ]
     },
     "execution_count": 38,
     "metadata": {},
     "output_type": "execute_result"
    }
   ],
   "source": [
    "# 브로드캐스팅 2 \n",
    "# np.arange 사용\n",
    "\n",
    "frame2['dept'] = np.arange(6) \n",
    "frame2"
   ]
  },
  {
   "cell_type": "code",
   "execution_count": 39,
   "id": "b8d54889",
   "metadata": {},
   "outputs": [
    {
     "name": "stdout",
     "output_type": "stream",
     "text": [
      "sr: \n",
      "one      1\n",
      "two      2\n",
      "three    3\n",
      "four     4\n",
      "five     5\n",
      "six      6\n",
      "dtype: int64\n",
      "\n",
      "\n",
      "       year   state  pop debt  dept\n",
      "one    2000    Ohio  1.5  NaN     1\n",
      "two    2001    Ohio  1.7  NaN     2\n",
      "three  2002    Ohio  3.6  NaN     3\n",
      "four   2001  Nevada  2.4  NaN     4\n",
      "five   2002  Nevada  2.9  NaN     5\n",
      "six    2003  Nevada  3.2  NaN     6\n"
     ]
    }
   ],
   "source": [
    "# 브로드 캐스팅 3 \n",
    "# series 사용 \n",
    "sr = pd.Series([1, 2, 3, 4, 5, 6], index=['one', 'two', 'three', 'four', 'five', 'six'])\n",
    "\n",
    "frame2['dept'] = sr \n",
    "print('sr: ',sr ,sep = '\\n' ) \n",
    "print('\\n')\n",
    "print(frame2)"
   ]
  },
  {
   "cell_type": "code",
   "execution_count": 40,
   "id": "654615dc",
   "metadata": {},
   "outputs": [
    {
     "data": {
      "text/html": [
       "<div>\n",
       "<style scoped>\n",
       "    .dataframe tbody tr th:only-of-type {\n",
       "        vertical-align: middle;\n",
       "    }\n",
       "\n",
       "    .dataframe tbody tr th {\n",
       "        vertical-align: top;\n",
       "    }\n",
       "\n",
       "    .dataframe thead th {\n",
       "        text-align: right;\n",
       "    }\n",
       "</style>\n",
       "<table border=\"1\" class=\"dataframe\">\n",
       "  <thead>\n",
       "    <tr style=\"text-align: right;\">\n",
       "      <th></th>\n",
       "      <th>Nevada</th>\n",
       "      <th>Ohio</th>\n",
       "    </tr>\n",
       "  </thead>\n",
       "  <tbody>\n",
       "    <tr>\n",
       "      <th>2001</th>\n",
       "      <td>2.4</td>\n",
       "      <td>1.7</td>\n",
       "    </tr>\n",
       "    <tr>\n",
       "      <th>2002</th>\n",
       "      <td>2.9</td>\n",
       "      <td>3.6</td>\n",
       "    </tr>\n",
       "    <tr>\n",
       "      <th>2000</th>\n",
       "      <td>NaN</td>\n",
       "      <td>1.5</td>\n",
       "    </tr>\n",
       "  </tbody>\n",
       "</table>\n",
       "</div>"
      ],
      "text/plain": [
       "      Nevada  Ohio\n",
       "2001     2.4   1.7\n",
       "2002     2.9   3.6\n",
       "2000     NaN   1.5"
      ]
     },
     "execution_count": 40,
     "metadata": {},
     "output_type": "execute_result"
    }
   ],
   "source": [
    "# 브로드 캐스팅 4 \n",
    "# 딕셔너리 사용 \n",
    "pop = {'Nevada':{2001:2.4, 2002:2.9},\n",
    "       'Ohio':{2000:1.5, 2001:1.7, 2002:3.6}}\n",
    "frame3 = pd.DataFrame(pop)\n",
    "frame3"
   ]
  },
  {
   "cell_type": "code",
   "execution_count": 41,
   "id": "ceed23fc",
   "metadata": {},
   "outputs": [
    {
     "data": {
      "text/html": [
       "<div>\n",
       "<style scoped>\n",
       "    .dataframe tbody tr th:only-of-type {\n",
       "        vertical-align: middle;\n",
       "    }\n",
       "\n",
       "    .dataframe tbody tr th {\n",
       "        vertical-align: top;\n",
       "    }\n",
       "\n",
       "    .dataframe thead th {\n",
       "        text-align: right;\n",
       "    }\n",
       "</style>\n",
       "<table border=\"1\" class=\"dataframe\">\n",
       "  <thead>\n",
       "    <tr style=\"text-align: right;\">\n",
       "      <th></th>\n",
       "      <th>Nevada</th>\n",
       "      <th>Ohio</th>\n",
       "    </tr>\n",
       "  </thead>\n",
       "  <tbody>\n",
       "    <tr>\n",
       "      <th>2001</th>\n",
       "      <td>2.4</td>\n",
       "      <td>1.7</td>\n",
       "    </tr>\n",
       "    <tr>\n",
       "      <th>2002</th>\n",
       "      <td>2.9</td>\n",
       "      <td>3.6</td>\n",
       "    </tr>\n",
       "    <tr>\n",
       "      <th>2003</th>\n",
       "      <td>NaN</td>\n",
       "      <td>NaN</td>\n",
       "    </tr>\n",
       "  </tbody>\n",
       "</table>\n",
       "</div>"
      ],
      "text/plain": [
       "      Nevada  Ohio\n",
       "2001     2.4   1.7\n",
       "2002     2.9   3.6\n",
       "2003     NaN   NaN"
      ]
     },
     "execution_count": 41,
     "metadata": {},
     "output_type": "execute_result"
    }
   ],
   "source": [
    "# dataframe 인덱스 추가하기 \n",
    "# 딕셔너리 랑 index 추가하기 \n",
    "pd.DataFrame(pop, index= [2001, 2002, 2003])"
   ]
  },
  {
   "cell_type": "code",
   "execution_count": 42,
   "id": "fd5e6c66",
   "metadata": {},
   "outputs": [
    {
     "data": {
      "text/plain": [
       "'population'"
      ]
     },
     "execution_count": 42,
     "metadata": {},
     "output_type": "execute_result"
    }
   ],
   "source": [
    "# dataframe 이름 정해주기 \n",
    "frame3.name = 'population'\n",
    "frame3.name"
   ]
  },
  {
   "cell_type": "code",
   "execution_count": 43,
   "id": "4cc608f7",
   "metadata": {},
   "outputs": [],
   "source": [
    "# index columns 의 분류 이름 정해주기 \n",
    "frame3.index.name = ' year' \n",
    "frame3.columns.name = 'state'"
   ]
  },
  {
   "cell_type": "code",
   "execution_count": 44,
   "id": "c72f5d69",
   "metadata": {},
   "outputs": [
    {
     "data": {
      "text/html": [
       "<div>\n",
       "<style scoped>\n",
       "    .dataframe tbody tr th:only-of-type {\n",
       "        vertical-align: middle;\n",
       "    }\n",
       "\n",
       "    .dataframe tbody tr th {\n",
       "        vertical-align: top;\n",
       "    }\n",
       "\n",
       "    .dataframe thead th {\n",
       "        text-align: right;\n",
       "    }\n",
       "</style>\n",
       "<table border=\"1\" class=\"dataframe\">\n",
       "  <thead>\n",
       "    <tr style=\"text-align: right;\">\n",
       "      <th>state</th>\n",
       "      <th>Nevada</th>\n",
       "      <th>Ohio</th>\n",
       "    </tr>\n",
       "    <tr>\n",
       "      <th>year</th>\n",
       "      <th></th>\n",
       "      <th></th>\n",
       "    </tr>\n",
       "  </thead>\n",
       "  <tbody>\n",
       "    <tr>\n",
       "      <th>2001</th>\n",
       "      <td>2.4</td>\n",
       "      <td>1.7</td>\n",
       "    </tr>\n",
       "    <tr>\n",
       "      <th>2002</th>\n",
       "      <td>2.9</td>\n",
       "      <td>3.6</td>\n",
       "    </tr>\n",
       "    <tr>\n",
       "      <th>2000</th>\n",
       "      <td>NaN</td>\n",
       "      <td>1.5</td>\n",
       "    </tr>\n",
       "  </tbody>\n",
       "</table>\n",
       "</div>"
      ],
      "text/plain": [
       "state  Nevada  Ohio\n",
       " year              \n",
       "2001      2.4   1.7\n",
       "2002      2.9   3.6\n",
       "2000      NaN   1.5"
      ]
     },
     "execution_count": 44,
     "metadata": {},
     "output_type": "execute_result"
    }
   ],
   "source": [
    "frame3"
   ]
  },
  {
   "cell_type": "markdown",
   "id": "1bb581d2",
   "metadata": {},
   "source": [
    "### 1.3 Index\n",
    "- 컬럼명, 인덱스 (데이터과 행과 열을 알려주는 메타 데이터) "
   ]
  },
  {
   "cell_type": "code",
   "execution_count": 45,
   "id": "409d6ce3",
   "metadata": {},
   "outputs": [
    {
     "data": {
      "text/plain": [
       "a    0\n",
       "b    1\n",
       "c    2\n",
       "dtype: int64"
      ]
     },
     "execution_count": 45,
     "metadata": {},
     "output_type": "execute_result"
    }
   ],
   "source": [
    "# Series 만들기 \n",
    "obj = pd.Series(range(3), index = ['a','b', 'c'])\n",
    "obj"
   ]
  },
  {
   "cell_type": "code",
   "execution_count": 46,
   "id": "98c7d779",
   "metadata": {},
   "outputs": [
    {
     "data": {
      "text/plain": [
       "Index(['a', 'b', 'c'], dtype='object')"
      ]
     },
     "execution_count": 46,
     "metadata": {},
     "output_type": "execute_result"
    }
   ],
   "source": [
    "# Series 의 index \n",
    "obj.index"
   ]
  },
  {
   "cell_type": "code",
   "execution_count": 47,
   "id": "657aac8c",
   "metadata": {},
   "outputs": [
    {
     "data": {
      "text/plain": [
       "Index(['a', 'b'], dtype='object')"
      ]
     },
     "execution_count": 47,
     "metadata": {},
     "output_type": "execute_result"
    }
   ],
   "source": [
    "# Series index slicing \n",
    "obj.index[:2]"
   ]
  },
  {
   "cell_type": "code",
   "execution_count": 48,
   "id": "3e91a72b",
   "metadata": {},
   "outputs": [
    {
     "data": {
      "text/plain": [
       "'b'"
      ]
     },
     "execution_count": 48,
     "metadata": {},
     "output_type": "execute_result"
    }
   ],
   "source": [
    "# Series indexing  // 인덱스의 이름이 나옴 \n",
    "obj.index[1]  "
   ]
  },
  {
   "cell_type": "code",
   "execution_count": 49,
   "id": "eaa1918c",
   "metadata": {},
   "outputs": [
    {
     "ename": "TypeError",
     "evalue": "Index does not support mutable operations",
     "output_type": "error",
     "traceback": [
      "\u001b[1;31m---------------------------------------------------------------------------\u001b[0m",
      "\u001b[1;31mTypeError\u001b[0m                                 Traceback (most recent call last)",
      "Cell \u001b[1;32mIn [49], line 2\u001b[0m\n\u001b[0;32m      1\u001b[0m \u001b[39m# 이름을 지정해 주는 것은 안됨 \u001b[39;00m\n\u001b[1;32m----> 2\u001b[0m obj\u001b[39m.\u001b[39;49mindex[\u001b[39m1\u001b[39;49m] \u001b[39m=\u001b[39m \u001b[39m'\u001b[39m\u001b[39mf\u001b[39m\u001b[39m'\u001b[39m\n",
      "File \u001b[1;32m~\\AppData\\Roaming\\Python\\Python310\\site-packages\\pandas\\core\\indexes\\base.py:5340\u001b[0m, in \u001b[0;36mIndex.__setitem__\u001b[1;34m(self, key, value)\u001b[0m\n\u001b[0;32m   5338\u001b[0m \u001b[39m@final\u001b[39m\n\u001b[0;32m   5339\u001b[0m \u001b[39mdef\u001b[39;00m \u001b[39m__setitem__\u001b[39m(\u001b[39mself\u001b[39m, key, value):\n\u001b[1;32m-> 5340\u001b[0m     \u001b[39mraise\u001b[39;00m \u001b[39mTypeError\u001b[39;00m(\u001b[39m\"\u001b[39m\u001b[39mIndex does not support mutable operations\u001b[39m\u001b[39m\"\u001b[39m)\n",
      "\u001b[1;31mTypeError\u001b[0m: Index does not support mutable operations"
     ]
    }
   ],
   "source": [
    "# 이름을 지정해 주는 것은 안됨 \n",
    "obj.index[1] = 'f'"
   ]
  },
  {
   "cell_type": "code",
   "execution_count": 50,
   "id": "06cc57f6",
   "metadata": {},
   "outputs": [
    {
     "data": {
      "text/plain": [
       "0    1\n",
       "1    2\n",
       "2    3\n",
       "dtype: int64"
      ]
     },
     "execution_count": 50,
     "metadata": {},
     "output_type": "execute_result"
    }
   ],
   "source": [
    "# 변수 사용해서 index 이름 정해주기  \n",
    "labels = pd.Index(np.arange(3) )\n",
    "pd.Series([1,2,3], index = labels )"
   ]
  },
  {
   "cell_type": "markdown",
   "id": "5cf7cb59",
   "metadata": {},
   "source": [
    "### Workshop"
   ]
  },
  {
   "cell_type": "markdown",
   "id": "f433e950",
   "metadata": {},
   "source": [
    "- 딕셔너리 -> 데이터프레임"
   ]
  },
  {
   "cell_type": "code",
   "execution_count": 51,
   "id": "c95f4195",
   "metadata": {},
   "outputs": [],
   "source": [
    "dict_data = {'c0':[1,2,3], 'c1':[4,5,6], 'c2':[7,8,9], 'c3':[10,11,12], 'c4':[13,14,15]}"
   ]
  },
  {
   "cell_type": "code",
   "execution_count": 52,
   "id": "ef564805",
   "metadata": {},
   "outputs": [
    {
     "data": {
      "text/html": [
       "<div>\n",
       "<style scoped>\n",
       "    .dataframe tbody tr th:only-of-type {\n",
       "        vertical-align: middle;\n",
       "    }\n",
       "\n",
       "    .dataframe tbody tr th {\n",
       "        vertical-align: top;\n",
       "    }\n",
       "\n",
       "    .dataframe thead th {\n",
       "        text-align: right;\n",
       "    }\n",
       "</style>\n",
       "<table border=\"1\" class=\"dataframe\">\n",
       "  <thead>\n",
       "    <tr style=\"text-align: right;\">\n",
       "      <th></th>\n",
       "      <th>c0</th>\n",
       "      <th>c1</th>\n",
       "      <th>c2</th>\n",
       "      <th>c3</th>\n",
       "      <th>c4</th>\n",
       "    </tr>\n",
       "  </thead>\n",
       "  <tbody>\n",
       "    <tr>\n",
       "      <th>0</th>\n",
       "      <td>1</td>\n",
       "      <td>4</td>\n",
       "      <td>7</td>\n",
       "      <td>10</td>\n",
       "      <td>13</td>\n",
       "    </tr>\n",
       "    <tr>\n",
       "      <th>1</th>\n",
       "      <td>2</td>\n",
       "      <td>5</td>\n",
       "      <td>8</td>\n",
       "      <td>11</td>\n",
       "      <td>14</td>\n",
       "    </tr>\n",
       "    <tr>\n",
       "      <th>2</th>\n",
       "      <td>3</td>\n",
       "      <td>6</td>\n",
       "      <td>9</td>\n",
       "      <td>12</td>\n",
       "      <td>15</td>\n",
       "    </tr>\n",
       "  </tbody>\n",
       "</table>\n",
       "</div>"
      ],
      "text/plain": [
       "   c0  c1  c2  c3  c4\n",
       "0   1   4   7  10  13\n",
       "1   2   5   8  11  14\n",
       "2   3   6   9  12  15"
      ]
     },
     "execution_count": 52,
     "metadata": {},
     "output_type": "execute_result"
    }
   ],
   "source": [
    "df = pd.DataFrame(dict_data)\n",
    "df"
   ]
  },
  {
   "cell_type": "markdown",
   "id": "2106bd8a",
   "metadata": {},
   "source": [
    "- 행인덱스/열이름 설정"
   ]
  },
  {
   "cell_type": "code",
   "execution_count": 53,
   "id": "d132637e",
   "metadata": {},
   "outputs": [
    {
     "data": {
      "text/html": [
       "<div>\n",
       "<style scoped>\n",
       "    .dataframe tbody tr th:only-of-type {\n",
       "        vertical-align: middle;\n",
       "    }\n",
       "\n",
       "    .dataframe tbody tr th {\n",
       "        vertical-align: top;\n",
       "    }\n",
       "\n",
       "    .dataframe thead th {\n",
       "        text-align: right;\n",
       "    }\n",
       "</style>\n",
       "<table border=\"1\" class=\"dataframe\">\n",
       "  <thead>\n",
       "    <tr style=\"text-align: right;\">\n",
       "      <th></th>\n",
       "      <th>나이</th>\n",
       "      <th>성별</th>\n",
       "      <th>학교</th>\n",
       "    </tr>\n",
       "  </thead>\n",
       "  <tbody>\n",
       "    <tr>\n",
       "      <th>준서</th>\n",
       "      <td>15</td>\n",
       "      <td>남</td>\n",
       "      <td>덕영중</td>\n",
       "    </tr>\n",
       "    <tr>\n",
       "      <th>예은</th>\n",
       "      <td>17</td>\n",
       "      <td>여</td>\n",
       "      <td>수리중</td>\n",
       "    </tr>\n",
       "  </tbody>\n",
       "</table>\n",
       "</div>"
      ],
      "text/plain": [
       "    나이 성별   학교\n",
       "준서  15  남  덕영중\n",
       "예은  17  여  수리중"
      ]
     },
     "execution_count": 53,
     "metadata": {},
     "output_type": "execute_result"
    }
   ],
   "source": [
    "df = pd.DataFrame([[15, '남', '덕영중'], [17, '여', '수리중']], \n",
    "                   index=['준서', '예은'],\n",
    "                   columns=['나이', '성별', '학교'])\n",
    "df"
   ]
  },
  {
   "cell_type": "code",
   "execution_count": 54,
   "id": "6d8b4199",
   "metadata": {},
   "outputs": [
    {
     "data": {
      "text/html": [
       "<div>\n",
       "<style scoped>\n",
       "    .dataframe tbody tr th:only-of-type {\n",
       "        vertical-align: middle;\n",
       "    }\n",
       "\n",
       "    .dataframe tbody tr th {\n",
       "        vertical-align: top;\n",
       "    }\n",
       "\n",
       "    .dataframe thead th {\n",
       "        text-align: right;\n",
       "    }\n",
       "</style>\n",
       "<table border=\"1\" class=\"dataframe\">\n",
       "  <thead>\n",
       "    <tr style=\"text-align: right;\">\n",
       "      <th></th>\n",
       "      <th>나이</th>\n",
       "      <th>성별</th>\n",
       "      <th>학교</th>\n",
       "    </tr>\n",
       "  </thead>\n",
       "  <tbody>\n",
       "    <tr>\n",
       "      <th>학생1</th>\n",
       "      <td>15</td>\n",
       "      <td>남</td>\n",
       "      <td>덕영중</td>\n",
       "    </tr>\n",
       "    <tr>\n",
       "      <th>학생2</th>\n",
       "      <td>17</td>\n",
       "      <td>여</td>\n",
       "      <td>수리중</td>\n",
       "    </tr>\n",
       "  </tbody>\n",
       "</table>\n",
       "</div>"
      ],
      "text/plain": [
       "     나이 성별   학교\n",
       "학생1  15  남  덕영중\n",
       "학생2  17  여  수리중"
      ]
     },
     "execution_count": 54,
     "metadata": {},
     "output_type": "execute_result"
    }
   ],
   "source": [
    "# 준서, 예은 -> 학생1, 학생2\n",
    "name = ['학생1', '학생2']\n",
    "\n",
    "df.index = name\n",
    "df"
   ]
  },
  {
   "cell_type": "code",
   "execution_count": 55,
   "id": "1c703098",
   "metadata": {},
   "outputs": [
    {
     "data": {
      "text/html": [
       "<div>\n",
       "<style scoped>\n",
       "    .dataframe tbody tr th:only-of-type {\n",
       "        vertical-align: middle;\n",
       "    }\n",
       "\n",
       "    .dataframe tbody tr th {\n",
       "        vertical-align: top;\n",
       "    }\n",
       "\n",
       "    .dataframe thead th {\n",
       "        text-align: right;\n",
       "    }\n",
       "</style>\n",
       "<table border=\"1\" class=\"dataframe\">\n",
       "  <thead>\n",
       "    <tr style=\"text-align: right;\">\n",
       "      <th></th>\n",
       "      <th>연령</th>\n",
       "      <th>남녀</th>\n",
       "      <th>소속</th>\n",
       "    </tr>\n",
       "  </thead>\n",
       "  <tbody>\n",
       "    <tr>\n",
       "      <th>학생1</th>\n",
       "      <td>15</td>\n",
       "      <td>남</td>\n",
       "      <td>덕영중</td>\n",
       "    </tr>\n",
       "    <tr>\n",
       "      <th>학생2</th>\n",
       "      <td>17</td>\n",
       "      <td>여</td>\n",
       "      <td>수리중</td>\n",
       "    </tr>\n",
       "  </tbody>\n",
       "</table>\n",
       "</div>"
      ],
      "text/plain": [
       "     연령 남녀   소속\n",
       "학생1  15  남  덕영중\n",
       "학생2  17  여  수리중"
      ]
     },
     "execution_count": 55,
     "metadata": {},
     "output_type": "execute_result"
    }
   ],
   "source": [
    "# 나이, 성별, 학교 -> 연령, 남녀, 소속\n",
    "column = ['연령', '남녀', '소속'] \n",
    "\n",
    "df.columns = column\n",
    "df"
   ]
  },
  {
   "cell_type": "code",
   "execution_count": 56,
   "id": "471c73df",
   "metadata": {},
   "outputs": [],
   "source": [
    "# 행인덱스/열이름 변경\n",
    "# rename 사용하여 변경 (부분적으로 수정하고 싶을 때)"
   ]
  },
  {
   "cell_type": "code",
   "execution_count": 57,
   "id": "6a36bb5b",
   "metadata": {},
   "outputs": [
    {
     "data": {
      "text/html": [
       "<div>\n",
       "<style scoped>\n",
       "    .dataframe tbody tr th:only-of-type {\n",
       "        vertical-align: middle;\n",
       "    }\n",
       "\n",
       "    .dataframe tbody tr th {\n",
       "        vertical-align: top;\n",
       "    }\n",
       "\n",
       "    .dataframe thead th {\n",
       "        text-align: right;\n",
       "    }\n",
       "</style>\n",
       "<table border=\"1\" class=\"dataframe\">\n",
       "  <thead>\n",
       "    <tr style=\"text-align: right;\">\n",
       "      <th></th>\n",
       "      <th>나이</th>\n",
       "      <th>성별</th>\n",
       "      <th>학교</th>\n",
       "    </tr>\n",
       "  </thead>\n",
       "  <tbody>\n",
       "    <tr>\n",
       "      <th>준서</th>\n",
       "      <td>15</td>\n",
       "      <td>남</td>\n",
       "      <td>덕영중</td>\n",
       "    </tr>\n",
       "    <tr>\n",
       "      <th>예은</th>\n",
       "      <td>17</td>\n",
       "      <td>여</td>\n",
       "      <td>수리중</td>\n",
       "    </tr>\n",
       "  </tbody>\n",
       "</table>\n",
       "</div>"
      ],
      "text/plain": [
       "    나이 성별   학교\n",
       "준서  15  남  덕영중\n",
       "예은  17  여  수리중"
      ]
     },
     "execution_count": 57,
     "metadata": {},
     "output_type": "execute_result"
    }
   ],
   "source": [
    "df = pd.DataFrame([[15, '남', '덕영중'], [17, '여', '수리중']], \n",
    "                   index=['준서', '예은'],\n",
    "                   columns=['나이', '성별', '학교'])\n",
    "df"
   ]
  },
  {
   "cell_type": "code",
   "execution_count": 58,
   "id": "0fe589cc",
   "metadata": {},
   "outputs": [
    {
     "data": {
      "text/html": [
       "<div>\n",
       "<style scoped>\n",
       "    .dataframe tbody tr th:only-of-type {\n",
       "        vertical-align: middle;\n",
       "    }\n",
       "\n",
       "    .dataframe tbody tr th {\n",
       "        vertical-align: top;\n",
       "    }\n",
       "\n",
       "    .dataframe thead th {\n",
       "        text-align: right;\n",
       "    }\n",
       "</style>\n",
       "<table border=\"1\" class=\"dataframe\">\n",
       "  <thead>\n",
       "    <tr style=\"text-align: right;\">\n",
       "      <th></th>\n",
       "      <th>age</th>\n",
       "      <th>성별</th>\n",
       "      <th>학교</th>\n",
       "    </tr>\n",
       "  </thead>\n",
       "  <tbody>\n",
       "    <tr>\n",
       "      <th>junseo</th>\n",
       "      <td>15</td>\n",
       "      <td>남</td>\n",
       "      <td>덕영중</td>\n",
       "    </tr>\n",
       "    <tr>\n",
       "      <th>예은</th>\n",
       "      <td>17</td>\n",
       "      <td>여</td>\n",
       "      <td>수리중</td>\n",
       "    </tr>\n",
       "  </tbody>\n",
       "</table>\n",
       "</div>"
      ],
      "text/plain": [
       "        age 성별   학교\n",
       "junseo   15  남  덕영중\n",
       "예은       17  여  수리중"
      ]
     },
     "execution_count": 58,
     "metadata": {},
     "output_type": "execute_result"
    }
   ],
   "source": [
    "# 딕셔너리를 사용한 rename 함수 // 이거는 원하는 부분만 수정이 가능함 \n",
    "#                             // 원래 방식은 전체를 수정하는 방법임(위의 방법)\n",
    "#                             // inplace = 'True' 는 원본까지 수정하는 거임 \n",
    "df.rename(columns = {\"나이\" : 'age'}, index = {\"준서\" : \"junseo\"}, inplace = 'True' )\n",
    "df"
   ]
  },
  {
   "cell_type": "markdown",
   "id": "51a3ad3b",
   "metadata": {},
   "source": [
    "## 2. 중요한 기능들"
   ]
  },
  {
   "cell_type": "markdown",
   "id": "3f04d9f5",
   "metadata": {},
   "source": [
    "### 2.1 재색인 \n",
    "- row cloumn index 값을 변경 할때 "
   ]
  },
  {
   "cell_type": "code",
   "execution_count": 59,
   "id": "32c07c4a",
   "metadata": {},
   "outputs": [
    {
     "data": {
      "text/plain": [
       "0    1\n",
       "3    2\n",
       "4    3\n",
       "5    4\n",
       "dtype: int64"
      ]
     },
     "execution_count": 59,
     "metadata": {},
     "output_type": "execute_result"
    }
   ],
   "source": [
    "# 예제 시리즈 만들기 \n",
    "sr = pd.Series([1,2,3,4], index= [0,3,4,5])\n",
    "sr "
   ]
  },
  {
   "cell_type": "code",
   "execution_count": 60,
   "id": "56de4030",
   "metadata": {},
   "outputs": [
    {
     "data": {
      "text/plain": [
       "0    1.0\n",
       "1    NaN\n",
       "2    NaN\n",
       "3    2.0\n",
       "4    3.0\n",
       "5    4.0\n",
       "dtype: float64"
      ]
     },
     "execution_count": 60,
     "metadata": {},
     "output_type": "execute_result"
    }
   ],
   "source": [
    "# reindex 사용 \n",
    "sr.reindex(np.arange(6))"
   ]
  },
  {
   "cell_type": "code",
   "execution_count": 61,
   "id": "9cec136b",
   "metadata": {},
   "outputs": [
    {
     "data": {
      "text/plain": [
       "0    1\n",
       "1    2\n",
       "2    2\n",
       "3    2\n",
       "4    3\n",
       "5    4\n",
       "dtype: int64"
      ]
     },
     "execution_count": 61,
     "metadata": {},
     "output_type": "execute_result"
    }
   ],
   "source": [
    "# 보간 bfill \n",
    "sr.reindex(np.arange(6) , method = 'bfill')"
   ]
  },
  {
   "cell_type": "code",
   "execution_count": 62,
   "id": "78f37e5e",
   "metadata": {},
   "outputs": [
    {
     "data": {
      "text/plain": [
       "0    1\n",
       "1    1\n",
       "2    1\n",
       "3    2\n",
       "4    3\n",
       "5    4\n",
       "dtype: int64"
      ]
     },
     "execution_count": 62,
     "metadata": {},
     "output_type": "execute_result"
    }
   ],
   "source": [
    "# 보간 ffill \n",
    "sr.reindex(np.arange(6) , method = 'ffill')"
   ]
  },
  {
   "cell_type": "markdown",
   "id": "6ae07673",
   "metadata": {},
   "source": [
    "### 2.2 로우나 컬럼 삭제하기"
   ]
  },
  {
   "cell_type": "code",
   "execution_count": 63,
   "id": "927c2bf0",
   "metadata": {},
   "outputs": [
    {
     "data": {
      "text/plain": [
       "a    0\n",
       "b    1\n",
       "c    2\n",
       "d    3\n",
       "e    4\n",
       "dtype: int32"
      ]
     },
     "execution_count": 63,
     "metadata": {},
     "output_type": "execute_result"
    }
   ],
   "source": [
    "# 예제 시리즈 만들기 \n",
    "obj = pd.Series(np.arange(5) , index = ['a','b', 'c', 'd', 'e'] )\n",
    "obj"
   ]
  },
  {
   "cell_type": "code",
   "execution_count": null,
   "id": "56e78bbf",
   "metadata": {},
   "outputs": [],
   "source": []
  },
  {
   "cell_type": "markdown",
   "id": "2a3e0191",
   "metadata": {},
   "source": [
    "### 2.3 색인하기, 선택하기, 거르기"
   ]
  },
  {
   "cell_type": "code",
   "execution_count": null,
   "id": "8ede128e",
   "metadata": {},
   "outputs": [],
   "source": []
  },
  {
   "cell_type": "code",
   "execution_count": null,
   "id": "a9282e4a",
   "metadata": {},
   "outputs": [],
   "source": []
  },
  {
   "cell_type": "markdown",
   "id": "0134e6e5",
   "metadata": {},
   "source": [
    "### Workshop"
   ]
  },
  {
   "cell_type": "markdown",
   "id": "c6ca50ce",
   "metadata": {},
   "source": [
    "- 행삭제"
   ]
  },
  {
   "cell_type": "markdown",
   "id": "b0f0cba9",
   "metadata": {},
   "source": [
    "- 열 삭제"
   ]
  },
  {
   "cell_type": "markdown",
   "id": "b1d109d6",
   "metadata": {},
   "source": [
    "- 행 선택"
   ]
  },
  {
   "cell_type": "markdown",
   "id": "05efb7a5",
   "metadata": {},
   "source": [
    "- 열 선택"
   ]
  },
  {
   "cell_type": "markdown",
   "id": "e8366791",
   "metadata": {},
   "source": [
    "- 원소 선택"
   ]
  },
  {
   "cell_type": "markdown",
   "id": "027b3343",
   "metadata": {},
   "source": [
    "- 열 추가"
   ]
  },
  {
   "cell_type": "markdown",
   "id": "15d459fc",
   "metadata": {},
   "source": [
    "- 행 추가"
   ]
  },
  {
   "cell_type": "markdown",
   "id": "de08e48d",
   "metadata": {},
   "source": [
    "- 원소 값 변경"
   ]
  },
  {
   "cell_type": "markdown",
   "id": "c962c703",
   "metadata": {},
   "source": [
    "- 행, 열 바꾸기"
   ]
  },
  {
   "cell_type": "markdown",
   "id": "b13d350d",
   "metadata": {},
   "source": [
    "## 3. 산술연산과 데이터 정렬 \n"
   ]
  },
  {
   "cell_type": "code",
   "execution_count": 64,
   "id": "d010981a",
   "metadata": {},
   "outputs": [
    {
     "name": "stdout",
     "output_type": "stream",
     "text": [
      "a    7.3\n",
      "c   -2.5\n",
      "d    3.4\n",
      "e    1.5\n",
      "dtype: float64\n",
      "\n",
      "\n",
      "a   -2.1\n",
      "c    3.6\n",
      "e   -1.5\n",
      "f    4.0\n",
      "g    3.1\n",
      "dtype: float64\n"
     ]
    },
    {
     "data": {
      "text/plain": [
       "(None, None, None)"
      ]
     },
     "execution_count": 64,
     "metadata": {},
     "output_type": "execute_result"
    }
   ],
   "source": [
    "s1 = pd.Series([7.3, -2.5, 3.4, 1.5], index=['a', 'c', 'd', 'e'])\n",
    "s2 = pd.Series([-2.1, 3.6, -1.5, 4, 3.1], index = ['a', 'c', 'e', 'f', 'g'])\n",
    "\n",
    "print(s1)  ,print('\\n') , print(s2) "
   ]
  },
  {
   "cell_type": "code",
   "execution_count": 65,
   "id": "e4f085f2",
   "metadata": {},
   "outputs": [
    {
     "data": {
      "text/plain": [
       "a    5.2\n",
       "c    1.1\n",
       "d    NaN\n",
       "e    0.0\n",
       "f    NaN\n",
       "g    NaN\n",
       "dtype: float64"
      ]
     },
     "execution_count": 65,
     "metadata": {},
     "output_type": "execute_result"
    }
   ],
   "source": [
    "# s1 ,s2 더하기 해보기 \n",
    "s1 +s2 \n",
    "\n",
    "# 공통이 아닌것들을은 NaN 값이 들어감 "
   ]
  },
  {
   "cell_type": "code",
   "execution_count": 66,
   "id": "54614508",
   "metadata": {},
   "outputs": [],
   "source": [
    "df1 = pd.DataFrame(np.arange(12).reshape(3, 4), columns = list('abcd'))\n",
    "df2 = pd.DataFrame(np.arange(20).reshape(4, 5), columns = list('abcde'))\n",
    "df2.loc[1, 'b'] = np.nan"
   ]
  },
  {
   "cell_type": "code",
   "execution_count": 67,
   "id": "d86e06da",
   "metadata": {},
   "outputs": [],
   "source": [
    "# 합을 구할때 add() 사용하기"
   ]
  },
  {
   "cell_type": "code",
   "execution_count": 68,
   "id": "4a0a5cf8",
   "metadata": {},
   "outputs": [],
   "source": [
    "# 뺄셈핼때에는 sub() 사용하기"
   ]
  },
  {
   "cell_type": "code",
   "execution_count": null,
   "id": "033d40e9",
   "metadata": {},
   "outputs": [],
   "source": []
  },
  {
   "cell_type": "markdown",
   "id": "c6b65220",
   "metadata": {},
   "source": [
    "## 4. 함수 적용과 매핑"
   ]
  },
  {
   "cell_type": "code",
   "execution_count": null,
   "id": "3d2d5aa6",
   "metadata": {},
   "outputs": [],
   "source": []
  },
  {
   "cell_type": "markdown",
   "id": "096e071b",
   "metadata": {},
   "source": [
    "### Workshop"
   ]
  },
  {
   "cell_type": "code",
   "execution_count": 69,
   "id": "1eb240be",
   "metadata": {},
   "outputs": [],
   "source": [
    "import seaborn as sns "
   ]
  },
  {
   "cell_type": "code",
   "execution_count": 70,
   "id": "9fcfa794",
   "metadata": {},
   "outputs": [],
   "source": [
    "titanic = sns.load_dataset('titanic')"
   ]
  },
  {
   "cell_type": "code",
   "execution_count": 71,
   "id": "69e82fe8",
   "metadata": {},
   "outputs": [
    {
     "data": {
      "text/html": [
       "<div>\n",
       "<style scoped>\n",
       "    .dataframe tbody tr th:only-of-type {\n",
       "        vertical-align: middle;\n",
       "    }\n",
       "\n",
       "    .dataframe tbody tr th {\n",
       "        vertical-align: top;\n",
       "    }\n",
       "\n",
       "    .dataframe thead th {\n",
       "        text-align: right;\n",
       "    }\n",
       "</style>\n",
       "<table border=\"1\" class=\"dataframe\">\n",
       "  <thead>\n",
       "    <tr style=\"text-align: right;\">\n",
       "      <th></th>\n",
       "      <th>survived</th>\n",
       "      <th>pclass</th>\n",
       "      <th>sex</th>\n",
       "      <th>age</th>\n",
       "      <th>sibsp</th>\n",
       "      <th>parch</th>\n",
       "      <th>fare</th>\n",
       "      <th>embarked</th>\n",
       "      <th>class</th>\n",
       "      <th>who</th>\n",
       "      <th>adult_male</th>\n",
       "      <th>deck</th>\n",
       "      <th>embark_town</th>\n",
       "      <th>alive</th>\n",
       "      <th>alone</th>\n",
       "    </tr>\n",
       "  </thead>\n",
       "  <tbody>\n",
       "    <tr>\n",
       "      <th>0</th>\n",
       "      <td>0</td>\n",
       "      <td>3</td>\n",
       "      <td>male</td>\n",
       "      <td>22.0</td>\n",
       "      <td>1</td>\n",
       "      <td>0</td>\n",
       "      <td>7.2500</td>\n",
       "      <td>S</td>\n",
       "      <td>Third</td>\n",
       "      <td>man</td>\n",
       "      <td>True</td>\n",
       "      <td>NaN</td>\n",
       "      <td>Southampton</td>\n",
       "      <td>no</td>\n",
       "      <td>False</td>\n",
       "    </tr>\n",
       "    <tr>\n",
       "      <th>1</th>\n",
       "      <td>1</td>\n",
       "      <td>1</td>\n",
       "      <td>female</td>\n",
       "      <td>38.0</td>\n",
       "      <td>1</td>\n",
       "      <td>0</td>\n",
       "      <td>71.2833</td>\n",
       "      <td>C</td>\n",
       "      <td>First</td>\n",
       "      <td>woman</td>\n",
       "      <td>False</td>\n",
       "      <td>C</td>\n",
       "      <td>Cherbourg</td>\n",
       "      <td>yes</td>\n",
       "      <td>False</td>\n",
       "    </tr>\n",
       "    <tr>\n",
       "      <th>2</th>\n",
       "      <td>1</td>\n",
       "      <td>3</td>\n",
       "      <td>female</td>\n",
       "      <td>26.0</td>\n",
       "      <td>0</td>\n",
       "      <td>0</td>\n",
       "      <td>7.9250</td>\n",
       "      <td>S</td>\n",
       "      <td>Third</td>\n",
       "      <td>woman</td>\n",
       "      <td>False</td>\n",
       "      <td>NaN</td>\n",
       "      <td>Southampton</td>\n",
       "      <td>yes</td>\n",
       "      <td>True</td>\n",
       "    </tr>\n",
       "    <tr>\n",
       "      <th>3</th>\n",
       "      <td>1</td>\n",
       "      <td>1</td>\n",
       "      <td>female</td>\n",
       "      <td>35.0</td>\n",
       "      <td>1</td>\n",
       "      <td>0</td>\n",
       "      <td>53.1000</td>\n",
       "      <td>S</td>\n",
       "      <td>First</td>\n",
       "      <td>woman</td>\n",
       "      <td>False</td>\n",
       "      <td>C</td>\n",
       "      <td>Southampton</td>\n",
       "      <td>yes</td>\n",
       "      <td>False</td>\n",
       "    </tr>\n",
       "    <tr>\n",
       "      <th>4</th>\n",
       "      <td>0</td>\n",
       "      <td>3</td>\n",
       "      <td>male</td>\n",
       "      <td>35.0</td>\n",
       "      <td>0</td>\n",
       "      <td>0</td>\n",
       "      <td>8.0500</td>\n",
       "      <td>S</td>\n",
       "      <td>Third</td>\n",
       "      <td>man</td>\n",
       "      <td>True</td>\n",
       "      <td>NaN</td>\n",
       "      <td>Southampton</td>\n",
       "      <td>no</td>\n",
       "      <td>True</td>\n",
       "    </tr>\n",
       "  </tbody>\n",
       "</table>\n",
       "</div>"
      ],
      "text/plain": [
       "   survived  pclass     sex   age  sibsp  parch     fare embarked  class  \\\n",
       "0         0       3    male  22.0      1      0   7.2500        S  Third   \n",
       "1         1       1  female  38.0      1      0  71.2833        C  First   \n",
       "2         1       3  female  26.0      0      0   7.9250        S  Third   \n",
       "3         1       1  female  35.0      1      0  53.1000        S  First   \n",
       "4         0       3    male  35.0      0      0   8.0500        S  Third   \n",
       "\n",
       "     who  adult_male deck  embark_town alive  alone  \n",
       "0    man        True  NaN  Southampton    no  False  \n",
       "1  woman       False    C    Cherbourg   yes  False  \n",
       "2  woman       False  NaN  Southampton   yes   True  \n",
       "3  woman       False    C  Southampton   yes  False  \n",
       "4    man        True  NaN  Southampton    no   True  "
      ]
     },
     "execution_count": 71,
     "metadata": {},
     "output_type": "execute_result"
    }
   ],
   "source": [
    "titanic.head() "
   ]
  },
  {
   "cell_type": "code",
   "execution_count": 72,
   "id": "5fbad9ef",
   "metadata": {},
   "outputs": [],
   "source": [
    "# age, fare 만 색인 해서 dataframe 만들기 "
   ]
  },
  {
   "cell_type": "code",
   "execution_count": 73,
   "id": "d9d05bf4",
   "metadata": {},
   "outputs": [
    {
     "data": {
      "text/html": [
       "<div>\n",
       "<style scoped>\n",
       "    .dataframe tbody tr th:only-of-type {\n",
       "        vertical-align: middle;\n",
       "    }\n",
       "\n",
       "    .dataframe tbody tr th {\n",
       "        vertical-align: top;\n",
       "    }\n",
       "\n",
       "    .dataframe thead th {\n",
       "        text-align: right;\n",
       "    }\n",
       "</style>\n",
       "<table border=\"1\" class=\"dataframe\">\n",
       "  <thead>\n",
       "    <tr style=\"text-align: right;\">\n",
       "      <th></th>\n",
       "      <th>age</th>\n",
       "      <th>fare</th>\n",
       "    </tr>\n",
       "  </thead>\n",
       "  <tbody>\n",
       "    <tr>\n",
       "      <th>0</th>\n",
       "      <td>22.0</td>\n",
       "      <td>7.2500</td>\n",
       "    </tr>\n",
       "    <tr>\n",
       "      <th>1</th>\n",
       "      <td>38.0</td>\n",
       "      <td>71.2833</td>\n",
       "    </tr>\n",
       "    <tr>\n",
       "      <th>2</th>\n",
       "      <td>26.0</td>\n",
       "      <td>7.9250</td>\n",
       "    </tr>\n",
       "    <tr>\n",
       "      <th>3</th>\n",
       "      <td>35.0</td>\n",
       "      <td>53.1000</td>\n",
       "    </tr>\n",
       "    <tr>\n",
       "      <th>4</th>\n",
       "      <td>35.0</td>\n",
       "      <td>8.0500</td>\n",
       "    </tr>\n",
       "    <tr>\n",
       "      <th>...</th>\n",
       "      <td>...</td>\n",
       "      <td>...</td>\n",
       "    </tr>\n",
       "    <tr>\n",
       "      <th>886</th>\n",
       "      <td>27.0</td>\n",
       "      <td>13.0000</td>\n",
       "    </tr>\n",
       "    <tr>\n",
       "      <th>887</th>\n",
       "      <td>19.0</td>\n",
       "      <td>30.0000</td>\n",
       "    </tr>\n",
       "    <tr>\n",
       "      <th>888</th>\n",
       "      <td>NaN</td>\n",
       "      <td>23.4500</td>\n",
       "    </tr>\n",
       "    <tr>\n",
       "      <th>889</th>\n",
       "      <td>26.0</td>\n",
       "      <td>30.0000</td>\n",
       "    </tr>\n",
       "    <tr>\n",
       "      <th>890</th>\n",
       "      <td>32.0</td>\n",
       "      <td>7.7500</td>\n",
       "    </tr>\n",
       "  </tbody>\n",
       "</table>\n",
       "<p>891 rows × 2 columns</p>\n",
       "</div>"
      ],
      "text/plain": [
       "      age     fare\n",
       "0    22.0   7.2500\n",
       "1    38.0  71.2833\n",
       "2    26.0   7.9250\n",
       "3    35.0  53.1000\n",
       "4    35.0   8.0500\n",
       "..    ...      ...\n",
       "886  27.0  13.0000\n",
       "887  19.0  30.0000\n",
       "888   NaN  23.4500\n",
       "889  26.0  30.0000\n",
       "890  32.0   7.7500\n",
       "\n",
       "[891 rows x 2 columns]"
      ]
     },
     "execution_count": 73,
     "metadata": {},
     "output_type": "execute_result"
    }
   ],
   "source": [
    "titanic_1 = pd.DataFrame(titanic[['age','fare']]) \n",
    "titanic_1"
   ]
  },
  {
   "cell_type": "code",
   "execution_count": 74,
   "id": "b0644156",
   "metadata": {},
   "outputs": [],
   "source": [
    "# 각 열의 최대값 최소값 구하기 "
   ]
  },
  {
   "cell_type": "code",
   "execution_count": 75,
   "id": "e5556a53",
   "metadata": {},
   "outputs": [
    {
     "name": "stdout",
     "output_type": "stream",
     "text": [
      "age      80.0000\n",
      "fare    512.3292\n",
      "dtype: float64\n",
      "age     0.42\n",
      "fare    0.00\n",
      "dtype: float64\n"
     ]
    }
   ],
   "source": [
    "sr_max = titanic_1.max(axis = 0)\n",
    "print(sr_max)\n",
    "\n",
    "sr_min = titanic_1.min(axis =0)\n",
    "print(sr_min)"
   ]
  },
  {
   "cell_type": "code",
   "execution_count": 76,
   "id": "11f4c548",
   "metadata": {},
   "outputs": [
    {
     "data": {
      "text/plain": [
       "age      79.5800\n",
       "fare    512.3292\n",
       "dtype: float64"
      ]
     },
     "execution_count": 76,
     "metadata": {},
     "output_type": "execute_result"
    }
   ],
   "source": [
    "# 각열의 최대값, 최소값 차이 구하기 \n",
    "def range_f (x) : \n",
    "    return x.max() - x.min() \n",
    "titanic_1.apply(range_f, axis =0 )"
   ]
  },
  {
   "cell_type": "code",
   "execution_count": 77,
   "id": "fe38faca",
   "metadata": {},
   "outputs": [
    {
     "data": {
      "text/html": [
       "<div>\n",
       "<style scoped>\n",
       "    .dataframe tbody tr th:only-of-type {\n",
       "        vertical-align: middle;\n",
       "    }\n",
       "\n",
       "    .dataframe tbody tr th {\n",
       "        vertical-align: top;\n",
       "    }\n",
       "\n",
       "    .dataframe thead th {\n",
       "        text-align: right;\n",
       "    }\n",
       "</style>\n",
       "<table border=\"1\" class=\"dataframe\">\n",
       "  <thead>\n",
       "    <tr style=\"text-align: right;\">\n",
       "      <th></th>\n",
       "      <th>age</th>\n",
       "      <th>fare</th>\n",
       "    </tr>\n",
       "  </thead>\n",
       "  <tbody>\n",
       "    <tr>\n",
       "      <th>0</th>\n",
       "      <td>22.00</td>\n",
       "      <td>7.25</td>\n",
       "    </tr>\n",
       "    <tr>\n",
       "      <th>1</th>\n",
       "      <td>38.00</td>\n",
       "      <td>71.28</td>\n",
       "    </tr>\n",
       "    <tr>\n",
       "      <th>2</th>\n",
       "      <td>26.00</td>\n",
       "      <td>7.92</td>\n",
       "    </tr>\n",
       "    <tr>\n",
       "      <th>3</th>\n",
       "      <td>35.00</td>\n",
       "      <td>53.10</td>\n",
       "    </tr>\n",
       "    <tr>\n",
       "      <th>4</th>\n",
       "      <td>35.00</td>\n",
       "      <td>8.05</td>\n",
       "    </tr>\n",
       "    <tr>\n",
       "      <th>...</th>\n",
       "      <td>...</td>\n",
       "      <td>...</td>\n",
       "    </tr>\n",
       "    <tr>\n",
       "      <th>886</th>\n",
       "      <td>27.00</td>\n",
       "      <td>13.00</td>\n",
       "    </tr>\n",
       "    <tr>\n",
       "      <th>887</th>\n",
       "      <td>19.00</td>\n",
       "      <td>30.00</td>\n",
       "    </tr>\n",
       "    <tr>\n",
       "      <th>888</th>\n",
       "      <td>nan</td>\n",
       "      <td>23.45</td>\n",
       "    </tr>\n",
       "    <tr>\n",
       "      <th>889</th>\n",
       "      <td>26.00</td>\n",
       "      <td>30.00</td>\n",
       "    </tr>\n",
       "    <tr>\n",
       "      <th>890</th>\n",
       "      <td>32.00</td>\n",
       "      <td>7.75</td>\n",
       "    </tr>\n",
       "  </tbody>\n",
       "</table>\n",
       "<p>891 rows × 2 columns</p>\n",
       "</div>"
      ],
      "text/plain": [
       "       age   fare\n",
       "0    22.00   7.25\n",
       "1    38.00  71.28\n",
       "2    26.00   7.92\n",
       "3    35.00  53.10\n",
       "4    35.00   8.05\n",
       "..     ...    ...\n",
       "886  27.00  13.00\n",
       "887  19.00  30.00\n",
       "888    nan  23.45\n",
       "889  26.00  30.00\n",
       "890  32.00   7.75\n",
       "\n",
       "[891 rows x 2 columns]"
      ]
     },
     "execution_count": 77,
     "metadata": {},
     "output_type": "execute_result"
    }
   ],
   "source": [
    "# 모든 원소의 포맷을 소수점 두자리로 만들기 \n",
    "def fmt(x) : \n",
    "    return '%.2f'%x \n",
    "titanic_1.applymap(fmt)\n"
   ]
  },
  {
   "cell_type": "code",
   "execution_count": 78,
   "id": "c83334cd",
   "metadata": {},
   "outputs": [
    {
     "data": {
      "text/html": [
       "<div>\n",
       "<style scoped>\n",
       "    .dataframe tbody tr th:only-of-type {\n",
       "        vertical-align: middle;\n",
       "    }\n",
       "\n",
       "    .dataframe tbody tr th {\n",
       "        vertical-align: top;\n",
       "    }\n",
       "\n",
       "    .dataframe thead th {\n",
       "        text-align: right;\n",
       "    }\n",
       "</style>\n",
       "<table border=\"1\" class=\"dataframe\">\n",
       "  <thead>\n",
       "    <tr style=\"text-align: right;\">\n",
       "      <th></th>\n",
       "      <th>age</th>\n",
       "      <th>fare</th>\n",
       "    </tr>\n",
       "  </thead>\n",
       "  <tbody>\n",
       "    <tr>\n",
       "      <th>0</th>\n",
       "      <td>False</td>\n",
       "      <td>False</td>\n",
       "    </tr>\n",
       "    <tr>\n",
       "      <th>1</th>\n",
       "      <td>False</td>\n",
       "      <td>False</td>\n",
       "    </tr>\n",
       "    <tr>\n",
       "      <th>2</th>\n",
       "      <td>False</td>\n",
       "      <td>False</td>\n",
       "    </tr>\n",
       "    <tr>\n",
       "      <th>3</th>\n",
       "      <td>False</td>\n",
       "      <td>False</td>\n",
       "    </tr>\n",
       "    <tr>\n",
       "      <th>4</th>\n",
       "      <td>False</td>\n",
       "      <td>False</td>\n",
       "    </tr>\n",
       "    <tr>\n",
       "      <th>...</th>\n",
       "      <td>...</td>\n",
       "      <td>...</td>\n",
       "    </tr>\n",
       "    <tr>\n",
       "      <th>886</th>\n",
       "      <td>False</td>\n",
       "      <td>False</td>\n",
       "    </tr>\n",
       "    <tr>\n",
       "      <th>887</th>\n",
       "      <td>False</td>\n",
       "      <td>False</td>\n",
       "    </tr>\n",
       "    <tr>\n",
       "      <th>888</th>\n",
       "      <td>True</td>\n",
       "      <td>False</td>\n",
       "    </tr>\n",
       "    <tr>\n",
       "      <th>889</th>\n",
       "      <td>False</td>\n",
       "      <td>False</td>\n",
       "    </tr>\n",
       "    <tr>\n",
       "      <th>890</th>\n",
       "      <td>False</td>\n",
       "      <td>False</td>\n",
       "    </tr>\n",
       "  </tbody>\n",
       "</table>\n",
       "<p>891 rows × 2 columns</p>\n",
       "</div>"
      ],
      "text/plain": [
       "       age   fare\n",
       "0    False  False\n",
       "1    False  False\n",
       "2    False  False\n",
       "3    False  False\n",
       "4    False  False\n",
       "..     ...    ...\n",
       "886  False  False\n",
       "887  False  False\n",
       "888   True  False\n",
       "889  False  False\n",
       "890  False  False\n",
       "\n",
       "[891 rows x 2 columns]"
      ]
     },
     "execution_count": 78,
     "metadata": {},
     "output_type": "execute_result"
    }
   ],
   "source": [
    "# 누락된 값(NaN) 이 있는지 bool로 확인하기  \n",
    "\n",
    "titanic_1.isnull() \n"
   ]
  },
  {
   "cell_type": "code",
   "execution_count": null,
   "id": "046dd336",
   "metadata": {},
   "outputs": [],
   "source": []
  },
  {
   "cell_type": "code",
   "execution_count": null,
   "id": "66aaae49",
   "metadata": {},
   "outputs": [],
   "source": []
  },
  {
   "cell_type": "code",
   "execution_count": null,
   "id": "e41d3d14",
   "metadata": {},
   "outputs": [],
   "source": []
  },
  {
   "cell_type": "code",
   "execution_count": null,
   "id": "159b0de8",
   "metadata": {},
   "outputs": [],
   "source": []
  },
  {
   "cell_type": "code",
   "execution_count": null,
   "id": "0bc38d0c",
   "metadata": {},
   "outputs": [],
   "source": []
  },
  {
   "cell_type": "code",
   "execution_count": null,
   "id": "3eea886e",
   "metadata": {},
   "outputs": [],
   "source": []
  }
 ],
 "metadata": {
  "kernelspec": {
   "display_name": "Python 3.10.8 64-bit",
   "language": "python",
   "name": "python3"
  },
  "language_info": {
   "codemirror_mode": {
    "name": "ipython",
    "version": 3
   },
   "file_extension": ".py",
   "mimetype": "text/x-python",
   "name": "python",
   "nbconvert_exporter": "python",
   "pygments_lexer": "ipython3",
   "version": "3.10.8"
  },
  "vscode": {
   "interpreter": {
    "hash": "fb4569285eef3a3450cb62085a5b1e0da4bce0af555edc33dcf29baf3acc1368"
   }
  }
 },
 "nbformat": 4,
 "nbformat_minor": 5
}
